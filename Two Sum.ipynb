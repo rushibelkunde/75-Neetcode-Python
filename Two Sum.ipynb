{
 "cells": [
  {
   "cell_type": "markdown",
   "id": "452c0ecb",
   "metadata": {},
   "source": [
    "<h1>TWO SUM</h1>"
   ]
  },
  {
   "cell_type": "code",
   "execution_count": 66,
   "id": "80f3063e",
   "metadata": {},
   "outputs": [],
   "source": [
    "# o(n^2) solution\n",
    "def twoSum(arr, target):\n",
    "    result = []\n",
    "    \n",
    "    for i in range(len(arr)-1):\n",
    "        for j in range(1, len(arr)):\n",
    "            if(arr[i] + arr[j] == target):\n",
    "                result.append([i,j])\n",
    "    return result\n",
    "\n",
    "# o(n)\n",
    "def twoSum2(arr, target):\n",
    "    hashmap = dict()\n",
    "    result = []\n",
    "    for i in range(len(arr)):\n",
    "        if target - arr[i] in hashmap.keys():\n",
    "            result.append([i, hashmap[target- arr[i]] ] )\n",
    "        else:\n",
    "            hashmap[arr[i]] = i\n",
    "        \n",
    "    return result\n",
    "        \n",
    "        \n",
    "            \n",
    "            \n",
    "      "
   ]
  },
  {
   "cell_type": "code",
   "execution_count": 62,
   "id": "7c28d50c",
   "metadata": {},
   "outputs": [],
   "source": [
    "result = twoSum([2,1,5,3], 4)"
   ]
  },
  {
   "cell_type": "code",
   "execution_count": 63,
   "id": "ea9f1328",
   "metadata": {},
   "outputs": [
    {
     "name": "stdout",
     "output_type": "stream",
     "text": [
      "[[1, 3]]\n"
     ]
    }
   ],
   "source": [
    "print(result)"
   ]
  },
  {
   "cell_type": "code",
   "execution_count": 64,
   "id": "f85f5545",
   "metadata": {},
   "outputs": [],
   "source": [
    "result = twoSum2([2,1,5,3], 4)"
   ]
  },
  {
   "cell_type": "code",
   "execution_count": 65,
   "id": "95be9162",
   "metadata": {},
   "outputs": [
    {
     "name": "stdout",
     "output_type": "stream",
     "text": [
      "[[3, 1]]\n"
     ]
    }
   ],
   "source": [
    "print(result)"
   ]
  },
  {
   "cell_type": "code",
   "execution_count": null,
   "id": "42282981",
   "metadata": {},
   "outputs": [],
   "source": []
  }
 ],
 "metadata": {
  "kernelspec": {
   "display_name": "Python 3",
   "language": "python",
   "name": "python3"
  },
  "language_info": {
   "codemirror_mode": {
    "name": "ipython",
    "version": 3
   },
   "file_extension": ".py",
   "mimetype": "text/x-python",
   "name": "python",
   "nbconvert_exporter": "python",
   "pygments_lexer": "ipython3",
   "version": "3.8.8"
  }
 },
 "nbformat": 4,
 "nbformat_minor": 5
}
