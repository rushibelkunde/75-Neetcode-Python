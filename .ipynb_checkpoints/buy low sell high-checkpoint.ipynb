{
 "cells": [
  {
   "cell_type": "markdown",
   "id": "6ebd13d5",
   "metadata": {},
   "source": [
    "<h1> Buy Low Sell High </h1>"
   ]
  },
  {
   "cell_type": "code",
   "execution_count": 1,
   "id": "2d181712",
   "metadata": {},
   "outputs": [],
   "source": [
    "# [7,1,5,3,6,4]"
   ]
  },
  {
   "cell_type": "code",
   "execution_count": 24,
   "id": "446ae9e5",
   "metadata": {},
   "outputs": [],
   "source": [
    "def buyLowSellHigh(arr):\n",
    "    max_profit = 0\n",
    "    left = 0\n",
    "    right = 1\n",
    "    while right < len(arr):\n",
    "        if(arr[left] > arr[right]):\n",
    "            left = right\n",
    "            profit = arr[right] - arr[left]\n",
    "            max_profit=max(max_profit, profit)\n",
    "        else:\n",
    "            profit = arr[right]-arr[left]\n",
    "            max_profit = max(max_profit, profit)\n",
    "        right+=1\n",
    "    return max_profit\n",
    "            \n",
    "        \n",
    "    "
   ]
  },
  {
   "cell_type": "code",
   "execution_count": 25,
   "id": "04db4937",
   "metadata": {},
   "outputs": [
    {
     "name": "stdout",
     "output_type": "stream",
     "text": [
      "9\n"
     ]
    }
   ],
   "source": [
    "print(buyLowSellHigh([2,5,1,1,10]))"
   ]
  },
  {
   "cell_type": "code",
   "execution_count": 16,
   "id": "620743ed",
   "metadata": {},
   "outputs": [],
   "source": [
    "x = True"
   ]
  },
  {
   "cell_type": "code",
   "execution_count": 19,
   "id": "4b38600d",
   "metadata": {},
   "outputs": [
    {
     "name": "stdout",
     "output_type": "stream",
     "text": [
      "true\n"
     ]
    }
   ],
   "source": [
    "if(x):\n",
    "    print(\"true\")\n",
    "elif(x):\n",
    "    print(\"true\")"
   ]
  },
  {
   "cell_type": "code",
   "execution_count": null,
   "id": "0bed83fa",
   "metadata": {},
   "outputs": [],
   "source": []
  }
 ],
 "metadata": {
  "kernelspec": {
   "display_name": "Python 3",
   "language": "python",
   "name": "python3"
  },
  "language_info": {
   "codemirror_mode": {
    "name": "ipython",
    "version": 3
   },
   "file_extension": ".py",
   "mimetype": "text/x-python",
   "name": "python",
   "nbconvert_exporter": "python",
   "pygments_lexer": "ipython3",
   "version": "3.8.8"
  }
 },
 "nbformat": 4,
 "nbformat_minor": 5
}
