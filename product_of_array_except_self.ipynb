{
 "cells": [
  {
   "cell_type": "code",
   "execution_count": 1,
   "metadata": {},
   "outputs": [],
   "source": [
    "# [1,2,3,4] => [24,12,8,6]"
   ]
  },
  {
   "cell_type": "code",
   "execution_count": 26,
   "metadata": {},
   "outputs": [],
   "source": [
    "# o(n^2)\n",
    "def productOfArray(arr : list):\n",
    "    ans = []\n",
    "    for i in range(len(arr)):\n",
    "        prod = 1\n",
    "        for j in range(len(arr)):\n",
    "            if i != j:\n",
    "                prod *= arr[j]\n",
    "        ans.append(prod)\n",
    "    return ans\n",
    "            "
   ]
  },
  {
   "cell_type": "code",
   "execution_count": 28,
   "metadata": {},
   "outputs": [
    {
     "name": "stdout",
     "output_type": "stream",
     "text": [
      "[24, 12, 8, 6]\n"
     ]
    }
   ],
   "source": [
    "print(productOfArray([1,2,3,4]))"
   ]
  },
  {
   "cell_type": "code",
   "execution_count": 29,
   "metadata": {},
   "outputs": [],
   "source": [
    "# o(n)\n",
    "def productOfArray1(arr : list):\n",
    "    ans = [1] * len(arr)\n",
    "    prefix = 1\n",
    "    for i in range(len(arr)):\n",
    "        ans[i] = prefix\n",
    "        prefix *= arr[i]\n",
    "    postfix = 1\n",
    "    for i in range(len(arr)-1,-1,-1):\n",
    "        ans[i] *= postfix\n",
    "        postfix *= arr[i]\n",
    "    return ans  "
   ]
  },
  {
   "cell_type": "code",
   "execution_count": 30,
   "metadata": {},
   "outputs": [
    {
     "name": "stdout",
     "output_type": "stream",
     "text": [
      "[24, 12, 8, 6]\n"
     ]
    }
   ],
   "source": [
    "print(productOfArray1([1,2,3,4]))"
   ]
  },
  {
   "cell_type": "code",
   "execution_count": null,
   "metadata": {},
   "outputs": [],
   "source": []
  }
 ],
 "metadata": {
  "kernelspec": {
   "display_name": "Python 3",
   "language": "python",
   "name": "python3"
  },
  "language_info": {
   "codemirror_mode": {
    "name": "ipython",
    "version": 3
   },
   "file_extension": ".py",
   "mimetype": "text/x-python",
   "name": "python",
   "nbconvert_exporter": "python",
   "pygments_lexer": "ipython3",
   "version": "3.10.12"
  }
 },
 "nbformat": 4,
 "nbformat_minor": 2
}
